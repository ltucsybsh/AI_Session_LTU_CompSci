{
 "cells": [
  {
   "cell_type": "markdown",
   "metadata": {},
   "source": [
    "# **Object Recognition and Labeling** using **MobileNet (TensorFlow/Keras)** \n",
    "\n",
    "In the following five scaffolded tasks, we will explore fully functional object recognition system from basic steps to more advanced level. "
   ]
  },
  {
   "cell_type": "markdown",
   "metadata": {},
   "source": [
    "\n",
    "### 🚀 **Task 1: Basic Setup (Install Dependencies)**\n",
    "\n",
    "**Aim:**  \n",
    "Install necessary libraries in your Google Colab or Replit environment.\n"
   ]
  },
  {
   "cell_type": "code",
   "execution_count": null,
   "metadata": {
    "vscode": {
     "languageId": "plaintext"
    }
   },
   "outputs": [],
   "source": [
    "# Install required libraries\n",
    "!pip install tensorflow pillow numpy matplotlib --quiet"
   ]
  },
  {
   "cell_type": "markdown",
   "metadata": {},
   "source": [
    "### 📷 **Task 2: Load a Pre-Trained MobileNet Model**\n",
    "\n",
    "**Aim:**  \n",
    "Load MobileNet (pre-trained) to recognize images without additional training."
   ]
  },
  {
   "cell_type": "code",
   "execution_count": null,
   "metadata": {
    "vscode": {
     "languageId": "plaintext"
    }
   },
   "outputs": [],
   "source": [
    "import tensorflow as tf\n",
    "\n",
    "# Load MobileNet pre-trained on ImageNet data\n",
    "mobilenet_model = tf.keras.applications.MobileNetV2(weights='imagenet')\n",
    "\n",
    "print(\"✅ MobileNet loaded successfully!\")\n"
   ]
  },
  {
   "cell_type": "markdown",
   "metadata": {},
   "source": [
    "### 🖼️ **Task 3: Image Preprocessing and Prediction**\n",
    "\n",
    "**Aim:**  \n",
    "Download an example image, preprocess it, and run your first prediction."
   ]
  },
  {
   "cell_type": "code",
   "execution_count": null,
   "metadata": {
    "vscode": {
     "languageId": "plaintext"
    }
   },
   "outputs": [],
   "source": [
    "from tensorflow.keras.preprocessing import image\n",
    "from tensorflow.keras.applications.mobilenet_v2 import preprocess_input, decode_predictions\n",
    "import numpy as np\n",
    "\n",
    "# Download and load sample image\n",
    "img_url = \"https://upload.wikimedia.org/wikipedia/commons/thumb/f/f8/Dog_in_snow.jpg/640px-Dog_in_snow.jpg\"\n",
    "img_path = tf.keras.utils.get_file(\"dog.jpg\", img_url)\n",
    "\n",
    "img = image.load_img(img_path, target_size=(224, 224))\n",
    "img_array = image.img_to_array(img)\n",
    "img_array = np.expand_dims(img_array, axis=0)\n",
    "img_array = preprocess_input(img_array)\n",
    "\n",
    "# Make a prediction\n",
    "predictions = mobilenet_model.predict(img_array)\n",
    "\n",
    "# Decode predictions to human-readable labels\n",
    "decoded_preds = decode_predictions(predictions, top=3)[0]\n",
    "print(\"✅ Predictions:\", decoded_preds)"
   ]
  },
  {
   "cell_type": "markdown",
   "metadata": {},
   "source": [
    "### 🎨 **Task 4: Visualize Predictions**\n",
    "\n",
    "**Aim:**  \n",
    "Visually display the image alongside the predicted labels."
   ]
  },
  {
   "cell_type": "code",
   "execution_count": null,
   "metadata": {
    "vscode": {
     "languageId": "plaintext"
    }
   },
   "outputs": [],
   "source": [
    "import matplotlib.pyplot as plt\n",
    "\n",
    "# Display image with predicted labels\n",
    "plt.imshow(img)\n",
    "plt.axis('off')\n",
    "\n",
    "# Show top predictions as the title\n",
    "title = ', '.join([f\"{label}: {prob:.2f}\" for (_, label, prob) in decoded_preds])\n",
    "plt.title(f\"Top Predictions:\\n{title}\")\n",
    "plt.show()"
   ]
  },
  {
   "cell_type": "markdown",
   "metadata": {},
   "source": [
    "### 📸 **Task 5: Advanced - Custom Object Recognition (Your Own Images)**\n",
    "\n",
    "**Aim:**  \n",
    "Build a reusable function to recognize objects from any uploaded image.\n"
   ]
  },
  {
   "cell_type": "code",
   "execution_count": null,
   "metadata": {
    "vscode": {
     "languageId": "plaintext"
    }
   },
   "outputs": [],
   "source": [
    "import uuid\n",
    "\n",
    "def recognize_objects_from_image(img_url):\n",
    "    # Generate a unique filename each time\n",
    "    unique_filename = f\"{uuid.uuid4()}.jpg\"\n",
    "    \n",
    "    # Load image without caching (using temporary directory)\n",
    "    img_path = tf.keras.utils.get_file(unique_filename, img_url, cache_dir='/tmp')\n",
    "\n",
    "    # Preprocess the image\n",
    "    img = image.load_img(img_path, target_size=(224, 224))\n",
    "    img_array = image.img_to_array(img)\n",
    "    img_array = np.expand_dims(img_array, axis=0)\n",
    "    img_array = preprocess_input(img_array)\n",
    "\n",
    "    # Predict\n",
    "    predictions = mobilenet_model.predict(img_array)\n",
    "    decoded_preds = decode_predictions(predictions, top=3)[0]\n",
    "\n",
    "    # Display image with predictions\n",
    "    plt.imshow(img, aspect='auto')\n",
    "    plt.axis('off')\n",
    "    title = ', '.join([f\"{label}: {prob:.2f}\" for (_, label, prob) in decoded_preds])\n",
    "    plt.title(f\"Top Predictions:\\n{title}\")\n",
    "    plt.show()\n",
    "\n",
    "# Usage example\n",
    "your_image_url = input(\"Enter an image URL to recognize: \")\n",
    "recognize_objects_from_image(your_image_url)\n"
   ]
  },
  {
   "cell_type": "markdown",
   "metadata": {
    "vscode": {
     "languageId": "plaintext"
    }
   },
   "source": [
    "## Understanding General vs. Specialized AI Image Classifiers\n",
    "\n",
    "### 1. How General-Purpose Image Classifiers Work:\n",
    "General-purpose image classifiers, such as MobileNet trained on the ImageNet dataset, are designed to recognize approximately 1,000 broad object categories. These categories are quite general—for example, \"sports car,\" \"cat,\" or \"dog.\" When using a general-purpose model, it identifies an object based on broad features common across many examples. Because of this generalization, these models typically cannot accurately recognize highly specific details, such as identifying exact car brands or individual models.\n",
    "\n",
    "### 2. Why Specialized Tasks Require Custom Datasets:\n",
    "For tasks that involve distinguishing detailed or subtle differences—such as recognizing specific car brands (Ferrari, Lamborghini, Porsche)—general-purpose models like MobileNet aren't sufficient. Such specific recognition tasks require AI models to learn from a specialized dataset containing labeled examples of these exact categories. By training on custom data, the AI learns the unique visual features that differentiate one specific brand or model from another.\n",
    "\n",
    "### 3. General AI Models vs. Specialized Fine-Tuned Models:\n",
    "- **General AI Models:** \n",
    "  - Broad categories (e.g., car, dog, flower).\n",
    "  - Readily available, easy to use without extra training.\n",
    "  - Good for general recognition tasks, but limited in detail.\n",
    "\n",
    "- **Specialized Fine-Tuned Models:** \n",
    "  - Trained specifically on a detailed, custom dataset.\n",
    "  - Can distinguish fine-grained differences (e.g., different car models).\n",
    "  - Require additional effort, training resources, and labeled data to achieve accurate results.\n",
    "\n",
    "Understanding this difference helps you select or design the right AI approach depending on your project's specific needs."
   ]
  },
  {
   "cell_type": "markdown",
   "metadata": {},
   "source": [
    "### 🌟 **What You've Learned Across These 5 Tasks:**\n",
    "\n",
    "1. **Set up an AI environment** (install libraries, models)\n",
    "2. **Use pre-trained AI models** (MobileNet trained on ImageNet)\n",
    "3. **Process and prepare images** (resize, convert, preprocess)\n",
    "4. **Interpret AI model outputs** (decode predictions to readable labels)\n",
    "5. **Build flexible AI applications** (a custom image recognition function)\n",
    "\n",
    "This step-by-step approach gradually enhances your skills from basic setup to advanced real-world object recognition, suitable for interactive classroom activities and practical demonstrations!"
   ]
  }
 ],
 "metadata": {
  "language_info": {
   "name": "python"
  }
 },
 "nbformat": 4,
 "nbformat_minor": 2
}
